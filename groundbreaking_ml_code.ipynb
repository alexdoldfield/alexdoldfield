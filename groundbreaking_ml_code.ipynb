{
  "nbformat": 4,
  "nbformat_minor": 0,
  "metadata": {
    "colab": {
      "provenance": [],
      "include_colab_link": true
    },
    "kernelspec": {
      "name": "python3",
      "display_name": "Python 3"
    },
    "language_info": {
      "name": "python"
    }
  },
  "cells": [
    {
      "cell_type": "markdown",
      "metadata": {
        "id": "view-in-github",
        "colab_type": "text"
      },
      "source": [
        "<a href=\"https://colab.research.google.com/github/alexdoldfield/alexdoldfield/blob/main/groundbreaking_ml_code.ipynb\" target=\"_parent\"><img src=\"https://colab.research.google.com/assets/colab-badge.svg\" alt=\"Open In Colab\"/></a>"
      ]
    },
    {
      "cell_type": "code",
      "execution_count": null,
      "metadata": {
        "id": "PqGI0Lj0rRM8"
      },
      "outputs": [],
      "source": [
        "import torch"
      ]
    },
    {
      "cell_type": "code",
      "source": [
        "random_tensor = torch.rand(size=(3,4,5))\n",
        "random_tensor"
      ],
      "metadata": {
        "colab": {
          "base_uri": "https://localhost:8080/"
        },
        "id": "gq-KdhikrxWI",
        "outputId": "e385a1bd-e551-48e4-d41f-6075e6aa6239"
      },
      "execution_count": null,
      "outputs": [
        {
          "output_type": "execute_result",
          "data": {
            "text/plain": [
              "tensor([[[0.2783, 0.4687, 0.8246, 0.5316, 0.6082],\n",
              "         [0.7253, 0.1265, 0.1275, 0.0760, 0.5924],\n",
              "         [0.8749, 0.3140, 0.4916, 0.9789, 0.0389],\n",
              "         [0.2630, 0.7809, 0.1267, 0.2681, 0.5593]],\n",
              "\n",
              "        [[0.0786, 0.0436, 0.8089, 0.6326, 0.7927],\n",
              "         [0.7521, 0.7038, 0.7353, 0.7886, 0.2200],\n",
              "         [0.7447, 0.3241, 0.2394, 0.4106, 0.1876],\n",
              "         [0.4608, 0.0998, 0.3201, 0.2619, 0.9794]],\n",
              "\n",
              "        [[0.1481, 0.8596, 0.1770, 0.7871, 0.4539],\n",
              "         [0.1375, 0.4719, 0.9371, 0.4591, 0.2794],\n",
              "         [0.4682, 0.5388, 0.6027, 0.0910, 0.1182],\n",
              "         [0.2902, 0.7692, 0.6616, 0.1927, 0.5652]]])"
            ]
          },
          "metadata": {},
          "execution_count": 4
        }
      ]
    },
    {
      "cell_type": "code",
      "source": [
        "zeros = torch.ones(size=(3,4))\n",
        "zeros"
      ],
      "metadata": {
        "colab": {
          "base_uri": "https://localhost:8080/"
        },
        "id": "ZBN5nwAHr4GR",
        "outputId": "4e89aa6f-409c-4166-d9fd-2be3b689cbad"
      },
      "execution_count": null,
      "outputs": [
        {
          "output_type": "execute_result",
          "data": {
            "text/plain": [
              "tensor([[1., 1., 1., 1.],\n",
              "        [1., 1., 1., 1.],\n",
              "        [1., 1., 1., 1.]])"
            ]
          },
          "metadata": {},
          "execution_count": 25
        }
      ]
    },
    {
      "cell_type": "code",
      "source": [
        "### TEST"
      ],
      "metadata": {
        "id": "Xl4ip_IVyAir"
      },
      "execution_count": null,
      "outputs": []
    },
    {
      "cell_type": "code",
      "source": [],
      "metadata": {
        "id": "-LsqYcRq0GxT"
      },
      "execution_count": null,
      "outputs": []
    }
  ]
}